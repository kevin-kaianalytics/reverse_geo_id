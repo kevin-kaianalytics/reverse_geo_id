{
  "nbformat": 4,
  "nbformat_minor": 0,
  "metadata": {
    "colab": {
      "name": "GeoCodingApp.ipynb",
      "provenance": [],
      "collapsed_sections": [],
      "include_colab_link": true
    },
    "kernelspec": {
      "name": "python3",
      "display_name": "Python 3"
    }
  },
  "cells": [
    {
      "cell_type": "markdown",
      "metadata": {
        "id": "view-in-github",
        "colab_type": "text"
      },
      "source": [
        "<a href=\"https://colab.research.google.com/github/kevin-kaianalytics/reverse_geo_id/blob/master/GeoCodingApp.ipynb\" target=\"_parent\"><img src=\"https://colab.research.google.com/assets/colab-badge.svg\" alt=\"Open In Colab\"/></a>"
      ]
    },
    {
      "cell_type": "markdown",
      "metadata": {
        "id": "UA84Qfw48uSB",
        "colab_type": "text"
      },
      "source": [
        "# Introduction\n",
        "This script was developed for a COVID-19 related study at UW to help recovery address information from GeoIDs (latitude and longitude). Simply upload a csv file with two columns: \"Location Latitude\" and \"Location Longitude\". You may also wish to include additional columns such as a unique ID to link the results back to your dataset. I recommend against uploading any private information onto Google Colab. The best pracitice is to save a copy of this code into your own Google Drive. *Be aware of any laws governing how and where your dataset can be uploaded.\n",
        "\n",
        "For any questions please email us at: info@kaianalytics.com\n",
        "\n",
        "Kevin Chang\n",
        "Founder and CEO, Kai Analytics and Survey Research Inc.\n",
        "\n",
        "Copyright (c) 2020 Kai Analytics and Survey Research Inc.\n",
        "\n",
        "# Licensing\n",
        "\n",
        "MIT License\n",
        "\n",
        "Copyright (c) 2020 Kai Analytics and Survey Research Inc.\n",
        "\n",
        "Permission is hereby granted, free of charge, to any person obtaining a copy\n",
        "of this software and associated documentation files (the \"Software\"), to deal\n",
        "in the Software without restriction, including without limitation the rights\n",
        "to use, copy, modify, merge, publish, distribute, sublicense, and/or sell\n",
        "copies of the Software, and to permit persons to whom the Software is\n",
        "furnished to do so, subject to the following conditions:\n",
        "\n",
        "**The above copyright notice and this permission notice shall be included in all\n",
        "copies or substantial portions of the Software.**\n",
        "\n",
        "THE SOFTWARE IS PROVIDED \"AS IS\", WITHOUT WARRANTY OF ANY KIND, EXPRESS OR\n",
        "IMPLIED, INCLUDING BUT NOT LIMITED TO THE WARRANTIES OF MERCHANTABILITY,\n",
        "FITNESS FOR A PARTICULAR PURPOSE AND NONINFRINGEMENT. IN NO EVENT SHALL THE\n",
        "AUTHORS OR COPYRIGHT HOLDERS BE LIABLE FOR ANY CLAIM, DAMAGES OR OTHER\n",
        "LIABILITY, WHETHER IN AN ACTION OF CONTRACT, TORT OR OTHERWISE, ARISING FROM,\n",
        "OUT OF OR IN CONNECTION WITH THE SOFTWARE OR THE USE OR OTHER DEALINGS IN THE\n",
        "SOFTWARE."
      ]
    },
    {
      "cell_type": "code",
      "metadata": {
        "id": "nrOxd4a3Wu7r",
        "colab_type": "code",
        "colab": {
          "base_uri": "https://localhost:8080/",
          "height": 359
        },
        "outputId": "b9a5939b-70b7-4c74-8143-35b48f2dc557"
      },
      "source": [
        "import pandas as pd\n",
        " \n",
        "from google.colab import files\n",
        "import io\n",
        "# You need to upload your file using the menu tool bar on the left. \n",
        "# Make sure the file name matches to the single quotes below.\n",
        "df = pd.read_csv('covidCopingGeoID.csv')\n",
        "\n",
        "# Let's check and see we've loaded our data properly.\n",
        "# We do this by checking its first 10 rows.\n",
        "pd.options.display.max_columns = None\n",
        "display(df.head(10))"
      ],
      "execution_count": null,
      "outputs": [
        {
          "output_type": "display_data",
          "data": {
            "text/html": [
              "<div>\n",
              "<style scoped>\n",
              "    .dataframe tbody tr th:only-of-type {\n",
              "        vertical-align: middle;\n",
              "    }\n",
              "\n",
              "    .dataframe tbody tr th {\n",
              "        vertical-align: top;\n",
              "    }\n",
              "\n",
              "    .dataframe thead th {\n",
              "        text-align: right;\n",
              "    }\n",
              "</style>\n",
              "<table border=\"1\" class=\"dataframe\">\n",
              "  <thead>\n",
              "    <tr style=\"text-align: right;\">\n",
              "      <th></th>\n",
              "      <th>Location Latitude</th>\n",
              "      <th>Location Longitude</th>\n",
              "      <th>PID</th>\n",
              "    </tr>\n",
              "  </thead>\n",
              "  <tbody>\n",
              "    <tr>\n",
              "      <th>0</th>\n",
              "      <td>41.683701</td>\n",
              "      <td>-88.349899</td>\n",
              "      <td>40720162244</td>\n",
              "    </tr>\n",
              "    <tr>\n",
              "      <th>1</th>\n",
              "      <td>43.701904</td>\n",
              "      <td>-72.282700</td>\n",
              "      <td>40820090711</td>\n",
              "    </tr>\n",
              "    <tr>\n",
              "      <th>2</th>\n",
              "      <td>41.596405</td>\n",
              "      <td>-71.256500</td>\n",
              "      <td>40820090420</td>\n",
              "    </tr>\n",
              "    <tr>\n",
              "      <th>3</th>\n",
              "      <td>40.795700</td>\n",
              "      <td>-77.861801</td>\n",
              "      <td>40820090950</td>\n",
              "    </tr>\n",
              "    <tr>\n",
              "      <th>4</th>\n",
              "      <td>33.868103</td>\n",
              "      <td>-118.183105</td>\n",
              "      <td>40820091104</td>\n",
              "    </tr>\n",
              "    <tr>\n",
              "      <th>5</th>\n",
              "      <td>29.165695</td>\n",
              "      <td>-82.127296</td>\n",
              "      <td>40820092004</td>\n",
              "    </tr>\n",
              "    <tr>\n",
              "      <th>6</th>\n",
              "      <td>42.465195</td>\n",
              "      <td>-83.371300</td>\n",
              "      <td>40820090838</td>\n",
              "    </tr>\n",
              "    <tr>\n",
              "      <th>7</th>\n",
              "      <td>32.430099</td>\n",
              "      <td>-80.669403</td>\n",
              "      <td>40820092817</td>\n",
              "    </tr>\n",
              "    <tr>\n",
              "      <th>8</th>\n",
              "      <td>36.215805</td>\n",
              "      <td>-115.066002</td>\n",
              "      <td>40820092652</td>\n",
              "    </tr>\n",
              "    <tr>\n",
              "      <th>9</th>\n",
              "      <td>33.664703</td>\n",
              "      <td>-117.966301</td>\n",
              "      <td>40820092932</td>\n",
              "    </tr>\n",
              "  </tbody>\n",
              "</table>\n",
              "</div>"
            ],
            "text/plain": [
              "   Location Latitude  Location Longitude          PID\n",
              "0          41.683701          -88.349899  40720162244\n",
              "1          43.701904          -72.282700  40820090711\n",
              "2          41.596405          -71.256500  40820090420\n",
              "3          40.795700          -77.861801  40820090950\n",
              "4          33.868103         -118.183105  40820091104\n",
              "5          29.165695          -82.127296  40820092004\n",
              "6          42.465195          -83.371300  40820090838\n",
              "7          32.430099          -80.669403  40820092817\n",
              "8          36.215805         -115.066002  40820092652\n",
              "9          33.664703         -117.966301  40820092932"
            ]
          },
          "metadata": {
            "tags": []
          }
        }
      ]
    },
    {
      "cell_type": "code",
      "metadata": {
        "id": "YtuQYzqwvaXi",
        "colab_type": "code",
        "colab": {}
      },
      "source": [
        "df['latlon'] = df[\"Location Latitude\"].map(str)+ \",\" + df[\"Location Longitude\"].map(str)"
      ],
      "execution_count": null,
      "outputs": []
    },
    {
      "cell_type": "code",
      "metadata": {
        "id": "lxIRFpS5waPO",
        "colab_type": "code",
        "colab": {
          "base_uri": "https://localhost:8080/",
          "height": 119
        },
        "outputId": "2b8023da-3490-49a1-b082-2198a6db18b2"
      },
      "source": [
        "print(df['latlon'].head())"
      ],
      "execution_count": null,
      "outputs": [
        {
          "output_type": "stream",
          "text": [
            "0           41.68370056,-88.34989929\n",
            "1    43.701904299999995,-72.28269958\n",
            "2           41.59640503,-71.25650024\n",
            "3           40.79570007,-77.86180115\n",
            "4           33.86810303,-118.1831055\n",
            "Name: latlon, dtype: object\n"
          ],
          "name": "stdout"
        }
      ]
    },
    {
      "cell_type": "code",
      "metadata": {
        "id": "NN6EUE9_se8n",
        "colab_type": "code",
        "colab": {
          "base_uri": "https://localhost:8080/",
          "height": 51
        },
        "outputId": "f4625bf4-87fb-4d00-9629-ac5d579b28d9"
      },
      "source": [
        "!pip install geopy"
      ],
      "execution_count": null,
      "outputs": [
        {
          "output_type": "stream",
          "text": [
            "Requirement already satisfied: geopy in /usr/local/lib/python3.6/dist-packages (1.17.0)\n",
            "Requirement already satisfied: geographiclib<2,>=1.49 in /usr/local/lib/python3.6/dist-packages (from geopy) (1.50)\n"
          ],
          "name": "stdout"
        }
      ]
    },
    {
      "cell_type": "code",
      "metadata": {
        "id": "ln1pPvn1sjTX",
        "colab_type": "code",
        "colab": {}
      },
      "source": [
        "# This is the opensource geo coding package\n",
        "# Depending on the size of your dataset, you might want to slow down the number \n",
        "# of address searches per second via min_delay_seconds\n",
        "\n",
        "from geopy.geocoders import Nominatim\n",
        "from geopy.extra.rate_limiter import RateLimiter\n",
        "\n",
        "locator = Nominatim(user_agent='myGeocoder')\n",
        "#locator = Nominatim(user_agent=\"geoapiExercises\")\n",
        "\n",
        "rgeocode = RateLimiter(locator.reverse, min_delay_seconds=0.001)"
      ],
      "execution_count": null,
      "outputs": []
    },
    {
      "cell_type": "code",
      "metadata": {
        "id": "fQlt-Zhj520g",
        "colab_type": "code",
        "colab": {}
      },
      "source": [
        "# Define some city, county, and state lookup function\n",
        "# You can probably combine theses into a bigger function but I thought it's \n",
        "# easier to show you the steps broken down one by one\n",
        "\n",
        "def city(coord):\n",
        "    location = locator.reverse(coord, exactly_one=True)\n",
        "    address = location.raw['address']\n",
        "    city = address.get('city', 'N/A')\n",
        "    return city\n",
        "\n",
        "def county(coord):\n",
        "    location = locator.reverse(coord, exactly_one=True)\n",
        "    address = location.raw['address']\n",
        "    county = address.get('county', 'N/A')\n",
        "    return county\n",
        "\n",
        "def state(coord):\n",
        "    location = locator.reverse(coord, exactly_one=True)\n",
        "    address = location.raw['address']\n",
        "    state = address.get('state', 'N/A')\n",
        "    return  state"
      ],
      "execution_count": null,
      "outputs": []
    },
    {
      "cell_type": "code",
      "metadata": {
        "id": "uB5tuUlMw5VU",
        "colab_type": "code",
        "colab": {}
      },
      "source": [
        "# Populate city data\n",
        "df['city'] = df['latlon'].apply(city)"
      ],
      "execution_count": null,
      "outputs": []
    },
    {
      "cell_type": "code",
      "metadata": {
        "id": "bbU5a-tDbFG8",
        "colab_type": "code",
        "colab": {}
      },
      "source": [
        "# Populate county data\n",
        "df['county'] = df['latlon'].apply(county)"
      ],
      "execution_count": null,
      "outputs": []
    },
    {
      "cell_type": "code",
      "metadata": {
        "id": "klaYaE19bJjc",
        "colab_type": "code",
        "colab": {}
      },
      "source": [
        "# Populate state data\n",
        "df['state'] = df['latlon'].apply(state)"
      ],
      "execution_count": null,
      "outputs": []
    },
    {
      "cell_type": "code",
      "metadata": {
        "id": "qGAHX4LE4fIb",
        "colab_type": "code",
        "colab": {
          "base_uri": "https://localhost:8080/",
          "height": 612
        },
        "outputId": "7c399a65-b364-4b54-a15f-b952b698337b"
      },
      "source": [
        "#print(df['address'])\n",
        "print(df)"
      ],
      "execution_count": null,
      "outputs": [
        {
          "output_type": "stream",
          "text": [
            "   Location Latitude  Location Longitude          PID  \\\n",
            "0          41.683701          -88.349899  40720162244   \n",
            "1          43.701904          -72.282700  40820090711   \n",
            "2          41.596405          -71.256500  40820090420   \n",
            "3          40.795700          -77.861801  40820090950   \n",
            "4          33.868103         -118.183105  40820091104   \n",
            "5          29.165695          -82.127296  40820092004   \n",
            "6          42.465195          -83.371300  40820090838   \n",
            "7          32.430099          -80.669403  40820092817   \n",
            "8          36.215805         -115.066002  40820092652   \n",
            "9          33.664703         -117.966301  40820092932   \n",
            "\n",
            "                            latlon              city              county  \\\n",
            "0         41.68370056,-88.34989929               N/A      Kendall County   \n",
            "1  43.701904299999995,-72.28269958               N/A      Grafton County   \n",
            "2         41.59640503,-71.25650024               N/A      Newport County   \n",
            "3         40.79570007,-77.86180115     State College       Centre County   \n",
            "4         33.86810303,-118.1831055        Long Beach  Los Angeles County   \n",
            "5         29.16569519,-82.12729645             Ocala       Marion County   \n",
            "6  42.465194700000005,-83.37129974               N/A      Oakland County   \n",
            "7         32.43009949,-80.66940308          Beaufort     Beaufort County   \n",
            "8         36.21580505,-115.0660019               N/A        Clark County   \n",
            "9          33.66470337,-117.966301  Huntington Beach       Orange County   \n",
            "\n",
            "            state  \n",
            "0        Illinois  \n",
            "1   New Hampshire  \n",
            "2    Rhode Island  \n",
            "3    Pennsylvania  \n",
            "4      California  \n",
            "5         Florida  \n",
            "6        Michigan  \n",
            "7  South Carolina  \n",
            "8          Nevada  \n",
            "9      California  \n"
          ],
          "name": "stdout"
        }
      ]
    },
    {
      "cell_type": "code",
      "metadata": {
        "id": "eWodBHeC7oRw",
        "colab_type": "code",
        "colab": {
          "base_uri": "https://localhost:8080/",
          "height": 17
        },
        "outputId": "610f28c2-56e2-4842-9794-ec0be51cd60f"
      },
      "source": [
        "from google.colab import files\n",
        "\n",
        "df.to_csv('uwReverseGeocodeResults.csv', index=False)\n",
        "files.download('uwReverseGeocodeResults.csv')"
      ],
      "execution_count": null,
      "outputs": [
        {
          "output_type": "display_data",
          "data": {
            "application/javascript": [
              "\n",
              "    async function download(id, filename, size) {\n",
              "      if (!google.colab.kernel.accessAllowed) {\n",
              "        return;\n",
              "      }\n",
              "      const div = document.createElement('div');\n",
              "      const label = document.createElement('label');\n",
              "      label.textContent = `Downloading \"${filename}\": `;\n",
              "      div.appendChild(label);\n",
              "      const progress = document.createElement('progress');\n",
              "      progress.max = size;\n",
              "      div.appendChild(progress);\n",
              "      document.body.appendChild(div);\n",
              "\n",
              "      const buffers = [];\n",
              "      let downloaded = 0;\n",
              "\n",
              "      const channel = await google.colab.kernel.comms.open(id);\n",
              "      // Send a message to notify the kernel that we're ready.\n",
              "      channel.send({})\n",
              "\n",
              "      for await (const message of channel.messages) {\n",
              "        // Send a message to notify the kernel that we're ready.\n",
              "        channel.send({})\n",
              "        if (message.buffers) {\n",
              "          for (const buffer of message.buffers) {\n",
              "            buffers.push(buffer);\n",
              "            downloaded += buffer.byteLength;\n",
              "            progress.value = downloaded;\n",
              "          }\n",
              "        }\n",
              "      }\n",
              "      const blob = new Blob(buffers, {type: 'application/binary'});\n",
              "      const a = document.createElement('a');\n",
              "      a.href = window.URL.createObjectURL(blob);\n",
              "      a.download = filename;\n",
              "      div.appendChild(a);\n",
              "      a.click();\n",
              "      div.remove();\n",
              "    }\n",
              "  "
            ],
            "text/plain": [
              "<IPython.core.display.Javascript object>"
            ]
          },
          "metadata": {
            "tags": []
          }
        },
        {
          "output_type": "display_data",
          "data": {
            "application/javascript": [
              "download(\"download_ce95ae1b-69fb-435c-b1ad-04792f50e1f4\", \"uwReverseGeocodeResults.csv\", 796)"
            ],
            "text/plain": [
              "<IPython.core.display.Javascript object>"
            ]
          },
          "metadata": {
            "tags": []
          }
        }
      ]
    }
  ]
}